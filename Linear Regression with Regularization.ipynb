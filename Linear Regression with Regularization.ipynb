{
 "cells": [
  {
   "cell_type": "markdown",
   "id": "94085d1d",
   "metadata": {},
   "source": [
    "# Problem Statement\n",
    "Predict the bike-sharing counts per hour based on features including weather, day, time, humidity, wind speed, season e.t.c.\n"
   ]
  },
  {
   "cell_type": "markdown",
   "id": "4504b46a",
   "metadata": {},
   "source": [
    "# Importing Necessary Packages"
   ]
  },
  {
   "cell_type": "code",
   "execution_count": 1,
   "id": "a72cdcdb",
   "metadata": {},
   "outputs": [],
   "source": [
    "import pandas as pd\n",
    "import numpy as np\n",
    "from sklearn import linear_model\n",
    "from sklearn.metrics import mean_squared_error\n",
    "import matplotlib.pyplot as plt\n",
    "import seaborn as sns\n",
    "from sklearn.model_selection import train_test_split\n",
    "from sklearn.preprocessing import StandardScaler\n",
    "from sklearn.preprocessing import MinMaxScaler\n",
    "from sklearn.preprocessing import OneHotEncoder\n",
    "from sklearn.metrics import r2_score"
   ]
  },
  {
   "cell_type": "markdown",
   "id": "b276452c",
   "metadata": {},
   "source": [
    "# Loading Data"
   ]
  },
  {
   "cell_type": "code",
   "execution_count": 2,
   "id": "e454079f",
   "metadata": {},
   "outputs": [
    {
     "data": {
      "text/html": [
       "<div>\n",
       "<style scoped>\n",
       "    .dataframe tbody tr th:only-of-type {\n",
       "        vertical-align: middle;\n",
       "    }\n",
       "\n",
       "    .dataframe tbody tr th {\n",
       "        vertical-align: top;\n",
       "    }\n",
       "\n",
       "    .dataframe thead th {\n",
       "        text-align: right;\n",
       "    }\n",
       "</style>\n",
       "<table border=\"1\" class=\"dataframe\">\n",
       "  <thead>\n",
       "    <tr style=\"text-align: right;\">\n",
       "      <th></th>\n",
       "      <th>instant</th>\n",
       "      <th>dteday</th>\n",
       "      <th>season</th>\n",
       "      <th>yr</th>\n",
       "      <th>mnth</th>\n",
       "      <th>hr</th>\n",
       "      <th>holiday</th>\n",
       "      <th>weekday</th>\n",
       "      <th>workingday</th>\n",
       "      <th>weathersit</th>\n",
       "      <th>temp</th>\n",
       "      <th>atemp</th>\n",
       "      <th>hum</th>\n",
       "      <th>windspeed</th>\n",
       "      <th>casual</th>\n",
       "      <th>registered</th>\n",
       "      <th>cnt</th>\n",
       "    </tr>\n",
       "  </thead>\n",
       "  <tbody>\n",
       "    <tr>\n",
       "      <th>0</th>\n",
       "      <td>1</td>\n",
       "      <td>2011-01-01</td>\n",
       "      <td>1</td>\n",
       "      <td>0</td>\n",
       "      <td>1</td>\n",
       "      <td>0</td>\n",
       "      <td>0</td>\n",
       "      <td>6</td>\n",
       "      <td>0</td>\n",
       "      <td>1</td>\n",
       "      <td>0.24</td>\n",
       "      <td>0.2879</td>\n",
       "      <td>0.81</td>\n",
       "      <td>0.0</td>\n",
       "      <td>3</td>\n",
       "      <td>13</td>\n",
       "      <td>16</td>\n",
       "    </tr>\n",
       "    <tr>\n",
       "      <th>1</th>\n",
       "      <td>2</td>\n",
       "      <td>2011-01-01</td>\n",
       "      <td>1</td>\n",
       "      <td>0</td>\n",
       "      <td>1</td>\n",
       "      <td>1</td>\n",
       "      <td>0</td>\n",
       "      <td>6</td>\n",
       "      <td>0</td>\n",
       "      <td>1</td>\n",
       "      <td>0.22</td>\n",
       "      <td>0.2727</td>\n",
       "      <td>0.80</td>\n",
       "      <td>0.0</td>\n",
       "      <td>8</td>\n",
       "      <td>32</td>\n",
       "      <td>40</td>\n",
       "    </tr>\n",
       "    <tr>\n",
       "      <th>2</th>\n",
       "      <td>3</td>\n",
       "      <td>2011-01-01</td>\n",
       "      <td>1</td>\n",
       "      <td>0</td>\n",
       "      <td>1</td>\n",
       "      <td>2</td>\n",
       "      <td>0</td>\n",
       "      <td>6</td>\n",
       "      <td>0</td>\n",
       "      <td>1</td>\n",
       "      <td>0.22</td>\n",
       "      <td>0.2727</td>\n",
       "      <td>0.80</td>\n",
       "      <td>0.0</td>\n",
       "      <td>5</td>\n",
       "      <td>27</td>\n",
       "      <td>32</td>\n",
       "    </tr>\n",
       "    <tr>\n",
       "      <th>3</th>\n",
       "      <td>4</td>\n",
       "      <td>2011-01-01</td>\n",
       "      <td>1</td>\n",
       "      <td>0</td>\n",
       "      <td>1</td>\n",
       "      <td>3</td>\n",
       "      <td>0</td>\n",
       "      <td>6</td>\n",
       "      <td>0</td>\n",
       "      <td>1</td>\n",
       "      <td>0.24</td>\n",
       "      <td>0.2879</td>\n",
       "      <td>0.75</td>\n",
       "      <td>0.0</td>\n",
       "      <td>3</td>\n",
       "      <td>10</td>\n",
       "      <td>13</td>\n",
       "    </tr>\n",
       "    <tr>\n",
       "      <th>4</th>\n",
       "      <td>5</td>\n",
       "      <td>2011-01-01</td>\n",
       "      <td>1</td>\n",
       "      <td>0</td>\n",
       "      <td>1</td>\n",
       "      <td>4</td>\n",
       "      <td>0</td>\n",
       "      <td>6</td>\n",
       "      <td>0</td>\n",
       "      <td>1</td>\n",
       "      <td>0.24</td>\n",
       "      <td>0.2879</td>\n",
       "      <td>0.75</td>\n",
       "      <td>0.0</td>\n",
       "      <td>0</td>\n",
       "      <td>1</td>\n",
       "      <td>1</td>\n",
       "    </tr>\n",
       "  </tbody>\n",
       "</table>\n",
       "</div>"
      ],
      "text/plain": [
       "   instant      dteday  season  yr  mnth  hr  holiday  weekday  workingday  \\\n",
       "0        1  2011-01-01       1   0     1   0        0        6           0   \n",
       "1        2  2011-01-01       1   0     1   1        0        6           0   \n",
       "2        3  2011-01-01       1   0     1   2        0        6           0   \n",
       "3        4  2011-01-01       1   0     1   3        0        6           0   \n",
       "4        5  2011-01-01       1   0     1   4        0        6           0   \n",
       "\n",
       "   weathersit  temp   atemp   hum  windspeed  casual  registered  cnt  \n",
       "0           1  0.24  0.2879  0.81        0.0       3          13   16  \n",
       "1           1  0.22  0.2727  0.80        0.0       8          32   40  \n",
       "2           1  0.22  0.2727  0.80        0.0       5          27   32  \n",
       "3           1  0.24  0.2879  0.75        0.0       3          10   13  \n",
       "4           1  0.24  0.2879  0.75        0.0       0           1    1  "
      ]
     },
     "execution_count": 2,
     "metadata": {},
     "output_type": "execute_result"
    }
   ],
   "source": [
    "bikeshare = pd.read_csv('hour.csv')\n",
    "bikeshare.head(5)"
   ]
  },
  {
   "cell_type": "code",
   "execution_count": 3,
   "id": "eb605496",
   "metadata": {},
   "outputs": [
    {
     "data": {
      "text/plain": [
       "instant         int64\n",
       "dteday         object\n",
       "season          int64\n",
       "yr              int64\n",
       "mnth            int64\n",
       "hr              int64\n",
       "holiday         int64\n",
       "weekday         int64\n",
       "workingday      int64\n",
       "weathersit      int64\n",
       "temp          float64\n",
       "atemp         float64\n",
       "hum           float64\n",
       "windspeed     float64\n",
       "casual          int64\n",
       "registered      int64\n",
       "cnt             int64\n",
       "dtype: object"
      ]
     },
     "execution_count": 3,
     "metadata": {},
     "output_type": "execute_result"
    }
   ],
   "source": [
    "bikeshare.dtypes"
   ]
  },
  {
   "cell_type": "markdown",
   "id": "5939d46e",
   "metadata": {},
   "source": [
    "# EDA & Visualization\n"
   ]
  },
  {
   "cell_type": "markdown",
   "id": "fc8fb88f",
   "metadata": {},
   "source": [
    "### Visualize the hour (hr) column with an appropriate plot and find the busy hours of bike sharing"
   ]
  },
  {
   "cell_type": "code",
   "execution_count": 4,
   "id": "3eba214d",
   "metadata": {},
   "outputs": [
    {
     "data": {
      "text/plain": [
       "<AxesSubplot:xlabel='hr'>"
      ]
     },
     "execution_count": 4,
     "metadata": {},
     "output_type": "execute_result"
    },
    {
     "data": {
      "image/png": "[encoded data removed]",
      "text/plain": [
       "<Figure size 640x480 with 1 Axes>"
      ]
     },
     "metadata": {},
     "output_type": "display_data"
    }
   ],
   "source": [
    "bikeshare.groupby('hr').sum('cnt')['cnt'].plot.bar()"
   ]
  },
  {
   "cell_type": "markdown",
   "id": "d0425b69",
   "metadata": {},
   "source": [
    "### Visualize the distribution of count, casual and registered variables"
   ]
  },
  {
   "cell_type": "code",
   "execution_count": 5,
   "id": "0104afcd",
   "metadata": {},
   "outputs": [
    {
     "name": "stderr",
     "output_type": "stream",
     "text": [
      "C:\\Users\\Komal\\anaconda3\\lib\\site-packages\\seaborn\\distributions.py:2619: FutureWarning: `distplot` is a deprecated function and will be removed in a future version. Please adapt your code to use either `displot` (a figure-level function with similar flexibility) or `histplot` (an axes-level function for histograms).\n",
      "  warnings.warn(msg, FutureWarning)\n"
     ]
    },
    {
     "data": {
      "image/png": "[encoded data removed]",
      "text/plain": [
       "<Figure size 640x480 with 1 Axes>"
      ]
     },
     "metadata": {},
     "output_type": "display_data"
    }
   ],
   "source": [
    "# distribution of casual\n",
    "sns.distplot(bikeshare.casual);"
   ]
  },
  {
   "cell_type": "code",
   "execution_count": 6,
   "id": "0c0ff3f3",
   "metadata": {},
   "outputs": [
    {
     "name": "stderr",
     "output_type": "stream",
     "text": [
      "C:\\Users\\Komal\\anaconda3\\lib\\site-packages\\seaborn\\distributions.py:2619: FutureWarning: `distplot` is a deprecated function and will be removed in a future version. Please adapt your code to use either `displot` (a figure-level function with similar flexibility) or `histplot` (an axes-level function for histograms).\n",
      "  warnings.warn(msg, FutureWarning)\n"
     ]
    },
    {
     "data": {
      "image/png": "[encoded data removed]",
      "text/plain": [
       "<Figure size 640x480 with 1 Axes>"
      ]
     },
     "metadata": {},
     "output_type": "display_data"
    }
   ],
   "source": [
    "# distribution of registered\n",
    "sns.distplot(bikeshare.registered);"
   ]
  },
  {
   "cell_type": "code",
   "execution_count": 7,
   "id": "b911ccf7",
   "metadata": {},
   "outputs": [
    {
     "name": "stderr",
     "output_type": "stream",
     "text": [
      "C:\\Users\\Komal\\anaconda3\\lib\\site-packages\\seaborn\\distributions.py:2619: FutureWarning: `distplot` is a deprecated function and will be removed in a future version. Please adapt your code to use either `displot` (a figure-level function with similar flexibility) or `histplot` (an axes-level function for histograms).\n",
      "  warnings.warn(msg, FutureWarning)\n"
     ]
    },
    {
     "data": {
      "image/png": "[encoded data removed]",
      "text/plain": [
       "<Figure size 640x480 with 1 Axes>"
      ]
     },
     "metadata": {},
     "output_type": "display_data"
    }
   ],
   "source": [
    "# distribution of count\n",
    "sns.distplot(bikeshare.cnt);"
   ]
  },
  {
   "cell_type": "markdown",
   "id": "f4536817",
   "metadata": {},
   "source": [
    "### Describe the relation of weekday, holiday and working day"
   ]
  },
  {
   "cell_type": "code",
   "execution_count": 8,
   "id": "4fcbbbb4",
   "metadata": {},
   "outputs": [
    {
     "data": {
      "text/plain": [
       "array([1, 2, 3, 4, 5], dtype=int64)"
      ]
     },
     "execution_count": 8,
     "metadata": {},
     "output_type": "execute_result"
    }
   ],
   "source": [
    "# Working days from 1-5 (mon-fri)\n",
    "bikeshare[bikeshare.workingday==1].weekday.unique()"
   ]
  },
  {
   "cell_type": "code",
   "execution_count": 9,
   "id": "e27ad41b",
   "metadata": {},
   "outputs": [
    {
     "data": {
      "text/plain": [
       "array([1, 5, 4, 3, 2], dtype=int64)"
      ]
     },
     "execution_count": 9,
     "metadata": {},
     "output_type": "execute_result"
    }
   ],
   "source": [
    "# Holiday possible on working days\n",
    "bikeshare[bikeshare.holiday==1].weekday.unique()"
   ]
  },
  {
   "cell_type": "code",
   "execution_count": 10,
   "id": "65768add",
   "metadata": {},
   "outputs": [
    {
     "data": {
      "text/plain": [
       "array([6, 0], dtype=int64)"
      ]
     },
     "execution_count": 10,
     "metadata": {},
     "output_type": "execute_result"
    }
   ],
   "source": [
    "# Not a holiday, not a working day (Sun, Sat)\n",
    "bikeshare[(bikeshare.holiday==0) & (bikeshare.workingday==0)].weekday.unique()"
   ]
  },
  {
   "cell_type": "markdown",
   "id": "304d3ec7",
   "metadata": {},
   "source": [
    "### Visualize the monthly wise count of both casual and registered for the year 2011 and 2012 separately"
   ]
  },
  {
   "cell_type": "code",
   "execution_count": 11,
   "id": "47beb7c4",
   "metadata": {},
   "outputs": [
    {
     "data": {
      "image/png": "[encoded data removed]",
      "text/plain": [
       "<Figure size 640x480 with 1 Axes>"
      ]
     },
     "metadata": {},
     "output_type": "display_data"
    }
   ],
   "source": [
    "# stacked bar chart for year 2011\n",
    "bikeshare[bikeshare.yr==0].groupby('mnth').sum(['casual','registered'])[['casual','registered']].plot.bar(stacked=True);\n",
    "plt.title(\"Casual and Registered in 2011\")\n",
    "plt.show()"
   ]
  },
  {
   "cell_type": "code",
   "execution_count": 12,
   "id": "13bc8e9c",
   "metadata": {},
   "outputs": [
    {
     "data": {
      "image/png": "[encoded data removed]",
      "text/plain": [
       "<Figure size 640x480 with 1 Axes>"
      ]
     },
     "metadata": {},
     "output_type": "display_data"
    }
   ],
   "source": [
    "# stacked bar chart for year 2012\n",
    "bikeshare[bikeshare.yr==1].groupby('mnth').sum(['casual','registered'])[['casual','registered']].plot.bar(stacked=True)\n",
    "plt.title(\"Casual and Registered in 2012\")\n",
    "plt.show()"
   ]
  },
  {
   "cell_type": "markdown",
   "id": "02c88027",
   "metadata": {},
   "source": [
    "### Analyze the correlation between features with heatmap"
   ]
  },
  {
   "cell_type": "code",
   "execution_count": 13,
   "id": "1d14d9ad",
   "metadata": {},
   "outputs": [
    {
     "data": {
      "text/plain": [
       "<AxesSubplot:>"
      ]
     },
     "execution_count": 13,
     "metadata": {},
     "output_type": "execute_result"
    },
    {
     "data": {
      "image/png": "[encoded data removed]",
      "text/plain": [
       "<Figure size 640x480 with 2 Axes>"
      ]
     },
     "metadata": {},
     "output_type": "display_data"
    }
   ],
   "source": [
    "sns.heatmap(bikeshare.iloc[:,:].corr(), cmap='RdBu')"
   ]
  },
  {
   "cell_type": "markdown",
   "id": "e6c5ee05",
   "metadata": {},
   "source": [
    "### Visualize the box plot of casual and registered variables to check the outliers"
   ]
  },
  {
   "cell_type": "code",
   "execution_count": 14,
   "id": "77c5ddb4",
   "metadata": {},
   "outputs": [
    {
     "data": {
      "image/png": "[encoded data removed]",
      "text/plain": [
       "<Figure size 640x480 with 2 Axes>"
      ]
     },
     "metadata": {},
     "output_type": "display_data"
    }
   ],
   "source": [
    "fig, axes = plt.subplots(nrows=1,ncols=2)\n",
    "sns.boxplot(data=bikeshare,y=\"casual\",orient=\"v\",ax=axes[0])\n",
    "sns.boxplot(data=bikeshare,y=\"registered\",orient=\"v\",ax=axes[1])\n",
    "plt.show()"
   ]
  },
  {
   "cell_type": "markdown",
   "id": "475cd979",
   "metadata": {},
   "source": [
    "# Pre-processing and Data Engineering"
   ]
  },
  {
   "cell_type": "code",
   "execution_count": 15,
   "id": "5da35f0f",
   "metadata": {},
   "outputs": [
    {
     "data": {
      "text/plain": [
       "(17379, 15)"
      ]
     },
     "execution_count": 15,
     "metadata": {},
     "output_type": "execute_result"
    }
   ],
   "source": [
    "bikeshare1 = bikeshare.drop(['instant', 'dteday'], axis = 1)\n",
    "bikeshare1.shape"
   ]
  },
  {
   "cell_type": "markdown",
   "id": "d4f59ca2",
   "metadata": {},
   "source": [
    "### Identify categorical and continuous variables"
   ]
  },
  {
   "cell_type": "code",
   "execution_count": 16,
   "id": "d3465021",
   "metadata": {},
   "outputs": [],
   "source": [
    "# Identifying categorical and continuous variables\n",
    "cont_features = ['temp','atemp','hum','windspeed']\n",
    "categorical_features = ['season', 'yr', 'mnth','hr','holiday','weekday','weathersit']"
   ]
  },
  {
   "cell_type": "markdown",
   "id": "fd806be5",
   "metadata": {},
   "source": [
    "### Feature scaling\n",
    "Feature scaling is essential for machine learning algorithms, the range of all features should be normalized so that each feature contributes approximately proportionately to the final distance. Apply scaling on the continuous variables on the given data."
   ]
  },
  {
   "cell_type": "code",
   "execution_count": 17,
   "id": "37d85233",
   "metadata": {},
   "outputs": [
    {
     "data": {
      "text/plain": [
       "(17379, 4)"
      ]
     },
     "execution_count": 17,
     "metadata": {},
     "output_type": "execute_result"
    }
   ],
   "source": [
    "std_scaler = StandardScaler()\n",
    "scaled_data = pd.DataFrame(std_scaler.fit_transform(bikeshare1[cont_features]), columns = cont_features)\n",
    "scaled_data.shape"
   ]
  },
  {
   "cell_type": "code",
   "execution_count": 18,
   "id": "59cc2663",
   "metadata": {},
   "outputs": [
    {
     "data": {
      "text/html": [
       "<div>\n",
       "<style scoped>\n",
       "    .dataframe tbody tr th:only-of-type {\n",
       "        vertical-align: middle;\n",
       "    }\n",
       "\n",
       "    .dataframe tbody tr th {\n",
       "        vertical-align: top;\n",
       "    }\n",
       "\n",
       "    .dataframe thead th {\n",
       "        text-align: right;\n",
       "    }\n",
       "</style>\n",
       "<table border=\"1\" class=\"dataframe\">\n",
       "  <thead>\n",
       "    <tr style=\"text-align: right;\">\n",
       "      <th></th>\n",
       "      <th>temp</th>\n",
       "      <th>atemp</th>\n",
       "      <th>hum</th>\n",
       "      <th>windspeed</th>\n",
       "      <th>season</th>\n",
       "      <th>yr</th>\n",
       "      <th>mnth</th>\n",
       "      <th>hr</th>\n",
       "      <th>holiday</th>\n",
       "      <th>weekday</th>\n",
       "      <th>weathersit</th>\n",
       "    </tr>\n",
       "  </thead>\n",
       "  <tbody>\n",
       "    <tr>\n",
       "      <th>0</th>\n",
       "      <td>-1.334648</td>\n",
       "      <td>-1.093281</td>\n",
       "      <td>0.947372</td>\n",
       "      <td>-1.553889</td>\n",
       "      <td>1</td>\n",
       "      <td>0</td>\n",
       "      <td>1</td>\n",
       "      <td>0</td>\n",
       "      <td>0</td>\n",
       "      <td>6</td>\n",
       "      <td>1</td>\n",
       "    </tr>\n",
       "    <tr>\n",
       "      <th>1</th>\n",
       "      <td>-1.438516</td>\n",
       "      <td>-1.181732</td>\n",
       "      <td>0.895539</td>\n",
       "      <td>-1.553889</td>\n",
       "      <td>1</td>\n",
       "      <td>0</td>\n",
       "      <td>1</td>\n",
       "      <td>1</td>\n",
       "      <td>0</td>\n",
       "      <td>6</td>\n",
       "      <td>1</td>\n",
       "    </tr>\n",
       "  </tbody>\n",
       "</table>\n",
       "</div>"
      ],
      "text/plain": [
       "       temp     atemp       hum  windspeed  season  yr  mnth  hr  holiday  \\\n",
       "0 -1.334648 -1.093281  0.947372  -1.553889       1   0     1   0        0   \n",
       "1 -1.438516 -1.181732  0.895539  -1.553889       1   0     1   1        0   \n",
       "\n",
       "   weekday  weathersit  \n",
       "0        6           1  \n",
       "1        6           1  "
      ]
     },
     "execution_count": 18,
     "metadata": {},
     "output_type": "execute_result"
    }
   ],
   "source": [
    "# scaled features + categorical in one dataframe\n",
    "scaled_data\n",
    "for i in categorical_features:\n",
    "    scaled_data[i] = bikeshare1[i].values\n",
    "scaled_data.head(2)"
   ]
  },
  {
   "cell_type": "markdown",
   "id": "0a54c2ea",
   "metadata": {},
   "source": [
    "### Apply one-hot encode on the categorical data\n",
    "One-hot encoding is applied on the categorical variables, which should not have a different weight or order attached to them, it is presumed that all categorical variables have equivalent \"values\". This means that you cannot simply order them from zero to the number of categories as this would imply that the earlier categories have less \"value\" than later categories"
   ]
  },
  {
   "cell_type": "code",
   "execution_count": 19,
   "id": "4943dd26",
   "metadata": {},
   "outputs": [
    {
     "data": {
      "text/plain": [
       "(17379, 55)"
      ]
     },
     "execution_count": 19,
     "metadata": {},
     "output_type": "execute_result"
    }
   ],
   "source": [
    "onehot = OneHotEncoder()\n",
    "onehot_encoded = onehot.fit_transform(scaled_data[categorical_features]).toarray()\n",
    "onehot_encoded.shape"
   ]
  },
  {
   "cell_type": "code",
   "execution_count": 20,
   "id": "9d9ae3dc",
   "metadata": {},
   "outputs": [
    {
     "data": {
      "text/plain": [
       "array([[1., 0., 0., ..., 0., 0., 0.],\n",
       "       [1., 0., 0., ..., 0., 0., 0.],\n",
       "       [1., 0., 0., ..., 0., 0., 0.],\n",
       "       ...,\n",
       "       [1., 0., 0., ..., 0., 0., 0.],\n",
       "       [1., 0., 0., ..., 0., 0., 0.],\n",
       "       [1., 0., 0., ..., 0., 0., 0.]])"
      ]
     },
     "execution_count": 20,
     "metadata": {},
     "output_type": "execute_result"
    }
   ],
   "source": [
    "onehot_encoded"
   ]
  },
  {
   "cell_type": "code",
   "execution_count": 21,
   "id": "47d1dfde",
   "metadata": {},
   "outputs": [],
   "source": [
    "cat_features = onehot.get_feature_names_out().tolist()"
   ]
  },
  {
   "cell_type": "code",
   "execution_count": 22,
   "id": "ad6cc2c3",
   "metadata": {},
   "outputs": [
    {
     "data": {
      "text/plain": [
       "['temp',\n",
       " 'atemp',\n",
       " 'hum',\n",
       " 'windspeed',\n",
       " 'season_1',\n",
       " 'season_2',\n",
       " 'season_3',\n",
       " 'season_4',\n",
       " 'yr_0',\n",
       " 'yr_1',\n",
       " 'mnth_1',\n",
       " 'mnth_2',\n",
       " 'mnth_3',\n",
       " 'mnth_4',\n",
       " 'mnth_5',\n",
       " 'mnth_6',\n",
       " 'mnth_7',\n",
       " 'mnth_8',\n",
       " 'mnth_9',\n",
       " 'mnth_10',\n",
       " 'mnth_11',\n",
       " 'mnth_12',\n",
       " 'hr_0',\n",
       " 'hr_1',\n",
       " 'hr_2',\n",
       " 'hr_3',\n",
       " 'hr_4',\n",
       " 'hr_5',\n",
       " 'hr_6',\n",
       " 'hr_7',\n",
       " 'hr_8',\n",
       " 'hr_9',\n",
       " 'hr_10',\n",
       " 'hr_11',\n",
       " 'hr_12',\n",
       " 'hr_13',\n",
       " 'hr_14',\n",
       " 'hr_15',\n",
       " 'hr_16',\n",
       " 'hr_17',\n",
       " 'hr_18',\n",
       " 'hr_19',\n",
       " 'hr_20',\n",
       " 'hr_21',\n",
       " 'hr_22',\n",
       " 'hr_23',\n",
       " 'holiday_0',\n",
       " 'holiday_1',\n",
       " 'weekday_0',\n",
       " 'weekday_1',\n",
       " 'weekday_2',\n",
       " 'weekday_3',\n",
       " 'weekday_4',\n",
       " 'weekday_5',\n",
       " 'weekday_6',\n",
       " 'weathersit_1',\n",
       " 'weathersit_2',\n",
       " 'weathersit_3',\n",
       " 'weathersit_4']"
      ]
     },
     "execution_count": 22,
     "metadata": {},
     "output_type": "execute_result"
    }
   ],
   "source": [
    "feature_names = cont_features + cat_features\n",
    "feature_names"
   ]
  },
  {
   "cell_type": "markdown",
   "id": "63a2291f",
   "metadata": {},
   "source": [
    "### Specify features and targets after applying scaling and one-hot encoding"
   ]
  },
  {
   "cell_type": "code",
   "execution_count": 23,
   "id": "5ac53d0b",
   "metadata": {},
   "outputs": [
    {
     "data": {
      "text/plain": [
       "(17379, 59)"
      ]
     },
     "execution_count": 23,
     "metadata": {},
     "output_type": "execute_result"
    }
   ],
   "source": [
    "features = np.concatenate((scaled_data[['temp','atemp','hum','windspeed']].values, onehot_encoded), axis=1)\n",
    "features.shape"
   ]
  },
  {
   "cell_type": "code",
   "execution_count": 24,
   "id": "56597007",
   "metadata": {},
   "outputs": [
    {
     "data": {
      "text/plain": [
       "(17379, 3)"
      ]
     },
     "execution_count": 24,
     "metadata": {},
     "output_type": "execute_result"
    }
   ],
   "source": [
    "target = bikeshare1[['casual','registered','cnt']]\n",
    "target.shape"
   ]
  },
  {
   "cell_type": "markdown",
   "id": "4f5eb67e",
   "metadata": {},
   "source": [
    "### Feature scaling and One-hot encoding using Pipeline"
   ]
  },
  {
   "cell_type": "code",
   "execution_count": 25,
   "id": "3072575b",
   "metadata": {},
   "outputs": [
    {
     "data": {
      "text/plain": [
       "(17379, 59)"
      ]
     },
     "execution_count": 25,
     "metadata": {},
     "output_type": "execute_result"
    }
   ],
   "source": [
    "from sklearn.pipeline import Pipeline\n",
    "from sklearn.impute import SimpleImputer\n",
    "from sklearn.preprocessing import StandardScaler\n",
    "\n",
    "# Create pipeline to Scale numerical features\n",
    "num_pipeline = Pipeline([\n",
    "                         ('imputer', SimpleImputer(strategy=\"median\")),             # to handle missing values if any\n",
    "                         ('std_scaler', StandardScaler())\n",
    "                         ])\n",
    "\n",
    "from sklearn.compose import ColumnTransformer\n",
    "''' ColumnTransformer applies each transformer to the appropriate columns and concatenates the outputs along the second axis. ''' \n",
    "full_pipeline = ColumnTransformer([\n",
    "                                   (\"num\", num_pipeline, cont_features),                 ## cont_features = ['temp','atemp','hum','windspeed']\n",
    "                                   (\"cat\", OneHotEncoder(), categorical_features)])      ## categorical_features = ['season', 'yr', 'mnth','hr','holiday','weekday','weathersit']\n",
    "\n",
    "features1 = full_pipeline.fit_transform(bikeshare1).toarray()\n",
    "features1.shape"
   ]
  },
  {
   "cell_type": "markdown",
   "id": "4421b734",
   "metadata": {},
   "source": [
    "### Select the features and target and split the dataset"
   ]
  },
  {
   "cell_type": "code",
   "execution_count": 26,
   "id": "88499342",
   "metadata": {},
   "outputs": [],
   "source": [
    "target1 = bikeshare1[['cnt']]"
   ]
  },
  {
   "cell_type": "code",
   "execution_count": 27,
   "id": "18daf15b",
   "metadata": {},
   "outputs": [
    {
     "data": {
      "text/plain": [
       "((13034, 59), (13034, 1))"
      ]
     },
     "execution_count": 27,
     "metadata": {},
     "output_type": "execute_result"
    }
   ],
   "source": [
    "x_train, x_test, y_train, y_test = train_test_split(features, target1)\n",
    "x_train.shape, y_train.shape"
   ]
  },
  {
   "cell_type": "markdown",
   "id": "98e31acc",
   "metadata": {},
   "source": [
    "### Implementation using Normal Equation"
   ]
  },
  {
   "cell_type": "code",
   "execution_count": 28,
   "id": "10791562",
   "metadata": {},
   "outputs": [
    {
     "data": {
      "text/plain": [
       "(13034, 60)"
      ]
     },
     "execution_count": 28,
     "metadata": {},
     "output_type": "execute_result"
    }
   ],
   "source": [
    "y = y_train.values\n",
    "# Adding ones to X\n",
    "X = np.append(np.ones((x_train.shape[0],1)),x_train, axis=1)\n",
    "X.shape"
   ]
  },
  {
   "cell_type": "code",
   "execution_count": 29,
   "id": "f14c53b9",
   "metadata": {},
   "outputs": [
    {
     "data": {
      "text/plain": [
       "(60, 60)"
      ]
     },
     "execution_count": 29,
     "metadata": {},
     "output_type": "execute_result"
    }
   ],
   "source": [
    "# X_transpose * X\n",
    "X_t = np.transpose(X)\n",
    "X_Xt_dot = X_t.dot(X)\n",
    "\n",
    "# inverse of (X * X_transpose)\n",
    "temp1 = np.linalg.inv(X_Xt_dot)\n",
    "temp1.shape"
   ]
  },
  {
   "cell_type": "code",
   "execution_count": 30,
   "id": "7a4f4854",
   "metadata": {},
   "outputs": [
    {
     "data": {
      "text/plain": [
       "(60, 1)"
      ]
     },
     "execution_count": 30,
     "metadata": {},
     "output_type": "execute_result"
    }
   ],
   "source": [
    "# X_transpose * Y\n",
    "temp2 = X_t.dot(y)\n",
    "# Inverse of (X_transpose * X) * (X_transpose * Y)\n",
    "coefs = temp1.dot(temp2)\n",
    "coefs.shape"
   ]
  },
  {
   "cell_type": "code",
   "execution_count": 31,
   "id": "7782827a",
   "metadata": {},
   "outputs": [
    {
     "data": {
      "text/plain": [
       "(60, 1)"
      ]
     },
     "execution_count": 31,
     "metadata": {},
     "output_type": "execute_result"
    }
   ],
   "source": [
    "# Above steps in one line\n",
    "y = y_train.values\n",
    "X_b = np.concatenate((np.ones((x_train.shape[0], 1)), x_train),axis=1)\n",
    "theta_star = np.linalg.inv(X_b.T.dot(X_b)).dot(X_b.T).dot(y)\n",
    "theta_star.shape"
   ]
  },
  {
   "cell_type": "code",
   "execution_count": 32,
   "id": "2e1c3250",
   "metadata": {},
   "outputs": [
    {
     "data": {
      "text/plain": [
       "135434929.73778903"
      ]
     },
     "execution_count": 32,
     "metadata": {},
     "output_type": "execute_result"
    }
   ],
   "source": [
    "ypredict = X_b.dot(theta_star.ravel())\n",
    "mean_squared_error(ypredict, y_train.values)"
   ]
  },
  {
   "cell_type": "code",
   "execution_count": 33,
   "id": "9867d1d1",
   "metadata": {},
   "outputs": [],
   "source": [
    "def Calc_MSE(X, y_test, coefficients):\n",
    "\n",
    "    X = np.append(np.ones((X.shape[0],1)),X, axis=1)\n",
    "    score = mean_squared_error(y_test.values, X.dot(coefficients))\n",
    "    return score"
   ]
  },
  {
   "cell_type": "code",
   "execution_count": 34,
   "id": "811809ba",
   "metadata": {},
   "outputs": [
    {
     "data": {
      "text/plain": [
       "(191687534.22876415, 205465499.05100533)"
      ]
     },
     "execution_count": 34,
     "metadata": {},
     "output_type": "execute_result"
    }
   ],
   "source": [
    "# objective(X,y, coefs)\n",
    "train_error = Calc_MSE(x_train, y_train, coefs)\n",
    "test_error = Calc_MSE(x_test, y_test, coefs)\n",
    "train_error, test_error"
   ]
  },
  {
   "cell_type": "code",
   "execution_count": 35,
   "id": "b82c2800",
   "metadata": {},
   "outputs": [
    {
     "name": "stdout",
     "output_type": "stream",
     "text": [
      "10407.879756772778\n"
     ]
    }
   ],
   "source": [
    "from scipy.linalg import lstsq\n",
    "\n",
    "x_train, x_test, y_train, y_test = train_test_split(features, target1)\n",
    "y = y_train.values\n",
    "X = np.append(np.ones((x_train.shape[0],1)),x_train, axis=1)\n",
    "p, res, rnk, s = lstsq(X, y)\n",
    "print(np.sum((X.dot(p)-y)**2)/X.shape[0])"
   ]
  },
  {
   "cell_type": "markdown",
   "id": "75ac59c5",
   "metadata": {},
   "source": [
    "### Implementing Linear regression using batch gradient descent"
   ]
  },
  {
   "cell_type": "code",
   "execution_count": 36,
   "id": "9d51af69",
   "metadata": {},
   "outputs": [
    {
     "data": {
      "text/plain": [
       "(13034, 60)"
      ]
     },
     "execution_count": 36,
     "metadata": {},
     "output_type": "execute_result"
    }
   ],
   "source": [
    "X = x_train\n",
    "y = y_train\n",
    "# Adding ones to X\n",
    "X = np.append(np.ones((X.shape[0],1)),X, axis=1)\n",
    "X.shape"
   ]
  },
  {
   "cell_type": "code",
   "execution_count": 37,
   "id": "a4e8af73",
   "metadata": {},
   "outputs": [],
   "source": [
    "def cost_function(X, Y, B):\n",
    "  return mean_squared_error(Y, X.dot(B))"
   ]
  },
  {
   "cell_type": "code",
   "execution_count": 40,
   "id": "881356a0",
   "metadata": {},
   "outputs": [
    {
     "data": {
      "text/plain": [
       "(array([ 5.70750415e+01,  2.15046566e+01,  2.34635354e+01, -1.59606177e+01,\n",
       "        -3.76404726e+00, -2.28550338e+01,  2.40066031e+01,  1.42954047e+01,\n",
       "         4.21931689e+01, -1.38850994e+01,  7.15238961e+01,  1.65230018e+00,\n",
       "         5.41864620e+00,  1.48061740e+01, -1.13316855e+00,  1.38282067e+01,\n",
       "        -9.07667365e-01, -1.78261452e+01,  2.84378432e+00,  3.22179141e+01,\n",
       "         1.57893943e+01, -5.14648591e+00, -3.30460819e+00, -1.23648747e+02,\n",
       "        -1.39519295e+02, -1.46299237e+02, -1.59231421e+02, -1.63328559e+02,\n",
       "        -1.43373582e+02, -8.62172397e+01,  4.76765130e+01,  1.86910221e+02,\n",
       "         4.14772865e+01, -1.11593395e+01,  1.24115641e+01,  5.09044206e+01,\n",
       "         4.59735547e+01,  3.29681168e+01,  4.02927662e+01,  1.01375201e+02,\n",
       "         2.54624155e+02,  2.24055794e+02,  1.15523038e+02,  3.41288427e+01,\n",
       "        -1.34748782e+01, -5.09597606e+01, -9.08556439e+01,  3.67554099e+01,\n",
       "         1.89650263e+01, -2.67592188e+00,  7.98120773e+00,  8.07319180e+00,\n",
       "         9.44536795e+00,  1.03290144e+01,  1.47135976e+01,  1.35140216e+01,\n",
       "         4.40397177e+01,  3.25487995e+01, -2.15016798e+01,  8.63318333e-02]),\n",
       " 10408.345308203285)"
      ]
     },
     "execution_count": 40,
     "metadata": {},
     "output_type": "execute_result"
    }
   ],
   "source": [
    "def batch_gradient_descent(X, Y, B, alpha, iterations):\n",
    "  cost_history = [0] * iterations\n",
    "  m = len(Y)\n",
    "  for iteration in range(iterations):\n",
    "    #print(iteration)\n",
    "    h = X.dot(B)\n",
    "    loss = h - Y #change the variable name\n",
    "    gradient = X.T.dot(loss) / m\n",
    "    B = B - alpha * gradient\n",
    "    cost = cost_function(X, Y, B)\n",
    "    cost_history[iteration] = cost\n",
    "  return B, cost_history\n",
    "\n",
    "B = np.random.randn(X.shape[1])\n",
    "alpha = 0.005\n",
    "iter_ = 50000\n",
    "newB, cost_history = batch_gradient_descent(X, y.values.ravel(), B, alpha, iter_)\n",
    "newB, cost_history[-1]"
   ]
  },
  {
   "cell_type": "code",
   "execution_count": 39,
   "id": "a0416646",
   "metadata": {},
   "outputs": [
    {
     "data": {
      "text/plain": [
       "10090.543594105622"
      ]
     },
     "execution_count": 39,
     "metadata": {},
     "output_type": "execute_result"
    }
   ],
   "source": [
    "# test error\n",
    "X_test = np.append(np.ones((x_test.shape[0],1)),x_test, axis=1)\n",
    "cost_function(X_test,y_test, newB)"
   ]
  },
  {
   "cell_type": "markdown",
   "id": "8e911b61",
   "metadata": {},
   "source": [
    "###  SGD Regressor"
   ]
  },
  {
   "cell_type": "code",
   "execution_count": 41,
   "id": "9dfbb6af",
   "metadata": {},
   "outputs": [
    {
     "name": "stderr",
     "output_type": "stream",
     "text": [
      "C:\\Users\\Komal\\anaconda3\\lib\\site-packages\\sklearn\\utils\\validation.py:993: DataConversionWarning: A column-vector y was passed when a 1d array was expected. Please change the shape of y to (n_samples, ), for example using ravel().\n",
      "  y = column_or_1d(y, warn=True)\n"
     ]
    },
    {
     "name": "stdout",
     "output_type": "stream",
     "text": [
      "score is  0.6887489656825345\n"
     ]
    },
    {
     "data": {
      "text/plain": [
       "10104.49430256929"
      ]
     },
     "execution_count": 41,
     "metadata": {},
     "output_type": "execute_result"
    }
   ],
   "source": [
    "sgd = linear_model.SGDRegressor()\n",
    "sgd = sgd.fit(x_train, y_train)\n",
    "print(\"score is \",sgd.score(x_test, y_test))\n",
    "mean_squared_error(sgd.predict(x_test), y_test )"
   ]
  },
  {
   "cell_type": "markdown",
   "id": "482d2e8e",
   "metadata": {},
   "source": [
    "# Linear regression using sklearn"
   ]
  },
  {
   "cell_type": "markdown",
   "id": "38f3f54c",
   "metadata": {},
   "source": [
    "### Select the features and split the data into train and test"
   ]
  },
  {
   "cell_type": "code",
   "execution_count": 42,
   "id": "1374bb1e",
   "metadata": {},
   "outputs": [],
   "source": [
    "target2 = bikeshare1['cnt']"
   ]
  },
  {
   "cell_type": "code",
   "execution_count": 43,
   "id": "b1fe2ffa",
   "metadata": {},
   "outputs": [
    {
     "data": {
      "text/plain": [
       "((13034, 59), (13034, 1))"
      ]
     },
     "execution_count": 43,
     "metadata": {},
     "output_type": "execute_result"
    }
   ],
   "source": [
    "xtrain, xtest, ytrain, ytest = train_test_split(features, target1)\n",
    "xtrain.shape, ytrain.shape"
   ]
  },
  {
   "cell_type": "code",
   "execution_count": 44,
   "id": "06b2c352",
   "metadata": {},
   "outputs": [],
   "source": [
    "regr_linear = linear_model.LinearRegression()\n",
    "regr_linear.fit(xtrain, ytrain)\n",
    "predicted = regr_linear.predict(xtest)"
   ]
  },
  {
   "cell_type": "markdown",
   "id": "31940fea",
   "metadata": {},
   "source": [
    "### Calculate the mean squared error of the actual and predicted data"
   ]
  },
  {
   "cell_type": "code",
   "execution_count": 45,
   "id": "c1aedba5",
   "metadata": {},
   "outputs": [
    {
     "data": {
      "text/plain": [
       "9593.164055644958"
      ]
     },
     "execution_count": 45,
     "metadata": {},
     "output_type": "execute_result"
    }
   ],
   "source": [
    "mse_linear = mean_squared_error(ytest, predicted, multioutput = 'uniform_average')\n",
    "mse_linear"
   ]
  },
  {
   "cell_type": "markdown",
   "id": "31008750",
   "metadata": {},
   "source": [
    "### Calculate the  R2  (coefficient of determination) of the actual and predicted data"
   ]
  },
  {
   "cell_type": "code",
   "execution_count": 46,
   "id": "42f00cc9",
   "metadata": {},
   "outputs": [
    {
     "data": {
      "text/plain": [
       "(0.6789501369760775, 0.7074279281736036)"
      ]
     },
     "execution_count": 46,
     "metadata": {},
     "output_type": "execute_result"
    }
   ],
   "source": [
    "r2_score(ytrain, regr_linear.predict(xtrain)), r2_score(ytest, predicted)"
   ]
  },
  {
   "cell_type": "markdown",
   "id": "88336d1e",
   "metadata": {},
   "source": [
    "# Regularization methods"
   ]
  },
  {
   "cell_type": "markdown",
   "id": "3ed5e96d",
   "metadata": {},
   "source": [
    "### Apply lasso regression\n",
    "Apply Lasso regression with different alpha values given below and find the best alpha that gives the least error.\n",
    "Calculate the metrics for the actual and predicted"
   ]
  },
  {
   "cell_type": "code",
   "execution_count": 47,
   "id": "c1eb0fd2",
   "metadata": {},
   "outputs": [],
   "source": [
    "# setting up alpha\n",
    "alpha = [0.0001, 0.001,0.01, 0.1, 1, 10, 100]"
   ]
  },
  {
   "cell_type": "code",
   "execution_count": 48,
   "id": "63ce7350",
   "metadata": {},
   "outputs": [
    {
     "name": "stderr",
     "output_type": "stream",
     "text": [
      "C:\\Users\\Komal\\anaconda3\\lib\\site-packages\\sklearn\\linear_model\\_coordinate_descent.py:647: ConvergenceWarning: Objective did not converge. You might want to increase the number of iterations, check the scale of the features or consider increasing regularisation. Duality gap: 2.618e+06, tolerance: 4.293e+04\n",
      "  model = cd_fast.enet_coordinate_descent(\n"
     ]
    },
    {
     "name": "stdout",
     "output_type": "stream",
     "text": [
      "0.0001 ===== 9593.168807906513\n"
     ]
    },
    {
     "name": "stderr",
     "output_type": "stream",
     "text": [
      "C:\\Users\\Komal\\anaconda3\\lib\\site-packages\\sklearn\\linear_model\\_coordinate_descent.py:647: ConvergenceWarning: Objective did not converge. You might want to increase the number of iterations, check the scale of the features or consider increasing regularisation. Duality gap: 8.094e+05, tolerance: 4.293e+04\n",
      "  model = cd_fast.enet_coordinate_descent(\n"
     ]
    },
    {
     "name": "stdout",
     "output_type": "stream",
     "text": [
      "0.001 ===== 9591.662815482614\n",
      "0.01 ===== 9583.258721825378\n",
      "0.1 ===== 9596.868824859737\n",
      "1 ===== 10397.51736199414\n",
      "10 ===== 23565.984829983845\n",
      "100 ===== 32789.260553695625\n"
     ]
    }
   ],
   "source": [
    "for a in alpha:\n",
    "    regr_lasso = linear_model.Lasso(alpha = a)\n",
    "    regr_lasso.fit(xtrain, ytrain)\n",
    "    mse_lasso_sk = mean_squared_error(ytest, regr_lasso.predict(xtest), multioutput = 'uniform_average')\n",
    "    print(a, \"=====\",mse_lasso_sk) "
   ]
  },
  {
   "cell_type": "code",
   "execution_count": 49,
   "id": "64750a8a",
   "metadata": {},
   "outputs": [
    {
     "name": "stdout",
     "output_type": "stream",
     "text": [
      "Lasso MSE: 9593.168807906513\n",
      "Lasso r2_score 0.6789511392300722\n"
     ]
    },
    {
     "name": "stderr",
     "output_type": "stream",
     "text": [
      "C:\\Users\\Komal\\anaconda3\\lib\\site-packages\\sklearn\\linear_model\\_coordinate_descent.py:647: ConvergenceWarning: Objective did not converge. You might want to increase the number of iterations, check the scale of the features or consider increasing regularisation. Duality gap: 2.618e+06, tolerance: 4.293e+04\n",
      "  model = cd_fast.enet_coordinate_descent(\n"
     ]
    }
   ],
   "source": [
    "# with best alpha chosen from above\n",
    "regr_lasso = linear_model.Lasso(alpha = 0.0001)\n",
    "regr_lasso.fit(xtrain, ytrain)\n",
    "mse_lasso_sk = mean_squared_error(ytest, regr_lasso.predict(xtest), multioutput = 'uniform_average')\n",
    "print(\"Lasso MSE:\",mse_lasso_sk)\n",
    "print(\"Lasso r2_score\",r2_score(ytrain, regr_lasso.predict(xtrain)))"
   ]
  },
  {
   "cell_type": "markdown",
   "id": "fb8b1443",
   "metadata": {},
   "source": [
    "### Apply ridge regression"
   ]
  },
  {
   "cell_type": "code",
   "execution_count": 50,
   "id": "d8cc8455",
   "metadata": {},
   "outputs": [
    {
     "name": "stdout",
     "output_type": "stream",
     "text": [
      "0.0001 ===== 9593.343518483225\n",
      "0.001 ===== 9593.330370237203\n",
      "0.01 ===== 9593.200409712397\n",
      "0.1 ===== 9592.039256883865\n",
      "1 ===== 9587.259007533412\n",
      "10 ===== 9598.317634722638\n",
      "100 ===== 10062.083260854324\n"
     ]
    }
   ],
   "source": [
    "for a in alpha:\n",
    "    regr_ridge = linear_model.Ridge(alpha = a)\n",
    "    regr_ridge.fit(xtrain, ytrain)\n",
    "    mse_ridge_sk = mean_squared_error(ytest, regr_ridge.predict(xtest), multioutput = 'uniform_average')\n",
    "    print(a, \"=====\",mse_ridge_sk)"
   ]
  },
  {
   "cell_type": "code",
   "execution_count": 51,
   "id": "760b05fa",
   "metadata": {},
   "outputs": [
    {
     "name": "stdout",
     "output_type": "stream",
     "text": [
      "Ridge MSE: 9593.330370237203\n",
      "Ridge r2_score: 0.678951143567529\n"
     ]
    }
   ],
   "source": [
    "# with best alpha chosen from above\n",
    "regr_ridge = linear_model.Ridge(alpha = 0.001)\n",
    "regr_ridge.fit(xtrain, ytrain)\n",
    "mse_ridge_sk = mean_squared_error(ytest, regr_ridge.predict(xtest), multioutput = 'uniform_average')\n",
    "print(\"Ridge MSE:\",mse_ridge_sk)\n",
    "print(\"Ridge r2_score:\",r2_score(ytrain, regr_ridge.predict(xtrain)))"
   ]
  },
  {
   "cell_type": "markdown",
   "id": "0019ffea",
   "metadata": {},
   "source": [
    "### Apply elasticnet regression"
   ]
  },
  {
   "cell_type": "code",
   "execution_count": 53,
   "id": "cd1bfbe3",
   "metadata": {},
   "outputs": [
    {
     "name": "stderr",
     "output_type": "stream",
     "text": [
      "C:\\Users\\Komal\\anaconda3\\lib\\site-packages\\sklearn\\linear_model\\_coordinate_descent.py:647: ConvergenceWarning: Objective did not converge. You might want to increase the number of iterations, check the scale of the features or consider increasing regularisation. Duality gap: 6.659e+07, tolerance: 4.293e+04\n",
      "  model = cd_fast.enet_coordinate_descent(\n"
     ]
    },
    {
     "name": "stdout",
     "output_type": "stream",
     "text": [
      "0.0001 ==== 9587.787139436128\n"
     ]
    },
    {
     "name": "stderr",
     "output_type": "stream",
     "text": [
      "C:\\Users\\Komal\\anaconda3\\lib\\site-packages\\sklearn\\linear_model\\_coordinate_descent.py:647: ConvergenceWarning: Objective did not converge. You might want to increase the number of iterations, check the scale of the features or consider increasing regularisation. Duality gap: 5.733e+05, tolerance: 4.293e+04\n",
      "  model = cd_fast.enet_coordinate_descent(\n"
     ]
    },
    {
     "name": "stdout",
     "output_type": "stream",
     "text": [
      "0.001 ==== 9591.761791091478\n",
      "0.01 ==== 9838.408826979738\n",
      "0.1 ==== 13917.876478567843\n",
      "1 ==== 21824.583915087194\n",
      "10 ==== 29021.936920497054\n",
      "100 ==== 32642.3343589989\n"
     ]
    }
   ],
   "source": [
    "for a in alpha:\n",
    "    elasticnet_regr = linear_model.ElasticNet(alpha=a)\n",
    "    elasticnet_regr.fit(xtrain, ytrain)\n",
    "    mse_elatic_sk = mean_squared_error(ytest, elasticnet_regr.predict(xtest), multioutput = 'uniform_average')\n",
    "    print(a,\"====\",mse_elatic_sk)"
   ]
  },
  {
   "cell_type": "code",
   "execution_count": 54,
   "id": "2b8bc791",
   "metadata": {},
   "outputs": [
    {
     "name": "stdout",
     "output_type": "stream",
     "text": [
      "Elasticnet MSE: 9838.408826979738\n",
      "Elasticnet r2_score 0.6729616833351333\n"
     ]
    }
   ],
   "source": [
    "# Elasticnet\n",
    "elasticnet_regr = linear_model.ElasticNet(alpha=0.01)\n",
    "elasticnet_regr.fit(xtrain, ytrain)\n",
    "mse_elatic_sk = mean_squared_error(ytest, elasticnet_regr.predict(xtest), multioutput = 'uniform_average')\n",
    "print(\"Elasticnet MSE:\",mse_elatic_sk)\n",
    "print(\"Elasticnet r2_score\",r2_score(ytrain, elasticnet_regr.predict(xtrain)))"
   ]
  },
  {
   "cell_type": "markdown",
   "id": "90c02ac7",
   "metadata": {},
   "source": [
    "### Solution of Linear regression with 2 variables"
   ]
  },
  {
   "cell_type": "code",
   "execution_count": 55,
   "id": "91caf22d",
   "metadata": {},
   "outputs": [],
   "source": [
    "target2 = bikeshare1[['casual','registered']]"
   ]
  },
  {
   "cell_type": "code",
   "execution_count": 56,
   "id": "d2c2a844",
   "metadata": {},
   "outputs": [
    {
     "data": {
      "text/plain": [
       "((13034, 59), (13034, 2))"
      ]
     },
     "execution_count": 56,
     "metadata": {},
     "output_type": "execute_result"
    }
   ],
   "source": [
    "xtrain, xtest, ytrain, ytest = train_test_split(features, target2)\n",
    "xtrain.shape, ytrain.shape"
   ]
  },
  {
   "cell_type": "code",
   "execution_count": 57,
   "id": "c5574cc1",
   "metadata": {},
   "outputs": [
    {
     "data": {
      "text/plain": [
       "(4345, 2)"
      ]
     },
     "execution_count": 57,
     "metadata": {},
     "output_type": "execute_result"
    }
   ],
   "source": [
    "regr_linear = linear_model.LinearRegression()\n",
    "regr_linear.fit(xtrain, ytrain)\n",
    "predicted = regr_linear.predict(xtest)\n",
    "predicted.shape"
   ]
  },
  {
   "cell_type": "code",
   "execution_count": 58,
   "id": "9aa1d37a",
   "metadata": {},
   "outputs": [
    {
     "data": {
      "text/plain": [
       "array([[  7.24609375, 289.5       ],\n",
       "       [ 15.7421875 , 310.5       ],\n",
       "       [ 18.09375   , 128.5       ],\n",
       "       ...,\n",
       "       [ 22.94921875, 116.        ],\n",
       "       [ 76.7109375 , 469.        ],\n",
       "       [ 74.6484375 , 249.5       ]])"
      ]
     },
     "execution_count": 58,
     "metadata": {},
     "output_type": "execute_result"
    }
   ],
   "source": [
    "predicted"
   ]
  },
  {
   "cell_type": "code",
   "execution_count": 59,
   "id": "9c29883a",
   "metadata": {},
   "outputs": [
    {
     "data": {
      "text/plain": [
       "4215.482980820773"
      ]
     },
     "execution_count": 59,
     "metadata": {},
     "output_type": "execute_result"
    }
   ],
   "source": [
    "mse_linear = mean_squared_error(ytest, predicted, multioutput = 'uniform_average')\n",
    "mse_linear"
   ]
  },
  {
   "cell_type": "code",
   "execution_count": 60,
   "id": "62ce5b33",
   "metadata": {},
   "outputs": [
    {
     "data": {
      "text/plain": [
       "(0.6372003643498543, 0.6302717965763353)"
      ]
     },
     "execution_count": 60,
     "metadata": {},
     "output_type": "execute_result"
    }
   ],
   "source": [
    "r2_score(ytrain, regr_linear.predict(xtrain)), r2_score(ytest, predicted)"
   ]
  }
 ],
 "metadata": {
  "kernelspec": {
   "display_name": "Python 3 (ipykernel)",
   "language": "python",
   "name": "python3"
  },
  "language_info": {
   "codemirror_mode": {
    "name": "ipython",
    "version": 3
   },
   "file_extension": ".py",
   "mimetype": "text/x-python",
   "name": "python",
   "nbconvert_exporter": "python",
   "pygments_lexer": "ipython3",
   "version": "3.9.13"
  }
 },
 "nbformat": 4,
 "nbformat_minor": 5
}
